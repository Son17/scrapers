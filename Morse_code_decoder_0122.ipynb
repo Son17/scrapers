{
  "nbformat": 4,
  "nbformat_minor": 0,
  "metadata": {
    "colab": {
      "name": "Morse_code_decoder_0122.ipynb",
      "provenance": [],
      "collapsed_sections": []
    },
    "kernelspec": {
      "name": "python3",
      "display_name": "Python 3"
    },
    "language_info": {
      "name": "python"
    }
  },
  "cells": [
    {
      "cell_type": "markdown",
      "source": [
        "**Morse code decoder function**"
      ],
      "metadata": {
        "id": "8dWLIMKoszbE"
      }
    },
    {
      "cell_type": "code",
      "metadata": {
        "id": "TlQzwxEtiB7a"
      },
      "source": [
        "import pandas as pd\n",
        "import numpy as np\n",
        "import requests\n",
        "import json"
      ],
      "execution_count": null,
      "outputs": []
    },
    {
      "cell_type": "code",
      "metadata": {
        "id": "MvxD0X04H_Pd"
      },
      "source": [
        " mor = {'.-': 'A',   '-...': 'B',   '-.-.': 'C',\n",
        "       '-..': 'D',      '.': 'E',   '..-.': 'F',\n",
        "         '-.': 'G',   '....': 'H',     '..': 'I',  \n",
        "      '.---': 'J',    '-.-': 'K',   '.-..': 'L',\n",
        "        '--': 'M',     '-.': 'N',    '---': 'O', \n",
        "      '.--.': 'P',   '--.-': 'Q',    '.-.': 'R',\n",
        "       '...': 'S',      '-': 'T',    '..-': 'U', \n",
        "      '...-': 'V',    '.--': 'W',   '-..-': 'X',\n",
        "      '-.--': 'Y',   '--..': 'Z',  '-----': '0', \n",
        "     '.----': '1',  '..---': '2',  '...--': '3',\n",
        "     '....-': '4',  '.....': '5',  '-....': '6', \n",
        "     '--...': '7',  '---..': '8',  '----.': '9'}\n",
        "\n",
        "\n",
        "def decrypt(msg):\n",
        "                \n",
        "  out = []\n",
        "  letter = []\n",
        "  j = -1\n",
        "  for i in msg.split(' '):\n",
        "      j += 1\n",
        "      letter += [i.split('/')]\n",
        "      for k in range(len(letter[j])):\n",
        "          out += mor.get(letter[j][k], '?')\n",
        "      out += ' '\n",
        "\n",
        "  return ''.join(out)"
      ],
      "execution_count": null,
      "outputs": []
    }
  ]
}