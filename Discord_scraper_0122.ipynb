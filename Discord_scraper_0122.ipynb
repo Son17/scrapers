{
  "nbformat": 4,
  "nbformat_minor": 0,
  "metadata": {
    "colab": {
      "name": "Discord_scraper_0122.ipynb",
      "provenance": [],
      "collapsed_sections": []
    },
    "kernelspec": {
      "name": "python3",
      "display_name": "Python 3"
    },
    "language_info": {
      "name": "python"
    }
  },
  "cells": [
    {
      "cell_type": "code",
      "metadata": {
        "id": "TlQzwxEtiB7a"
      },
      "source": [
        "import pandas as pd\n",
        "import numpy as np\n",
        "import requests\n",
        "import json\n",
        "import re\n",
        "from nltk.tokenize import TweetTokenizer\n",
        "import string\n",
        "import nltk\n",
        "from nltk import word_tokenize, FreqDist, pos_tag\n",
        "from nltk.corpus import stopwords\n",
        "import seaborn as sns\n",
        "import matplotlib.pyplot as plt\n",
        "%matplotlib inline\n",
        "from textblob import TextBlob"
      ],
      "execution_count": null,
      "outputs": []
    },
    {
      "cell_type": "code",
      "metadata": {
        "colab": {
          "base_uri": "https://localhost:8080/"
        },
        "id": "R865ECdMEd78",
        "outputId": "5122a207-cee7-4d16-f4c7-b02b9da5fa23"
      },
      "source": [
        "nltk.download('punkt')\n",
        "nltk.download('stopwords')\n",
        "nltk.download('averaged_perceptron_tagger')"
      ],
      "execution_count": null,
      "outputs": [
        {
          "output_type": "stream",
          "name": "stdout",
          "text": [
            "[nltk_data] Downloading package punkt to /root/nltk_data...\n",
            "[nltk_data]   Unzipping tokenizers/punkt.zip.\n",
            "[nltk_data] Downloading package stopwords to /root/nltk_data...\n",
            "[nltk_data]   Unzipping corpora/stopwords.zip.\n",
            "[nltk_data] Downloading package averaged_perceptron_tagger to\n",
            "[nltk_data]     /root/nltk_data...\n",
            "[nltk_data]   Unzipping taggers/averaged_perceptron_tagger.zip.\n"
          ]
        },
        {
          "output_type": "execute_result",
          "data": {
            "text/plain": [
              "True"
            ]
          },
          "metadata": {},
          "execution_count": 2
        }
      ]
    },
    {
      "cell_type": "markdown",
      "metadata": {
        "id": "xONc94tbl6of"
      },
      "source": [
        "**Define scraper function**"
      ]
    },
    {
      "cell_type": "code",
      "source": [
        "# define authorisation code and channel_id (from discord site, developer tools)\n",
        "\n",
        "auth_code = 'NzYxOTc1NTY5NTYxOTQ0MDk0.YVLV0Q.CiwvD563Ts9WcdBA9n5sO1ANaPk'\n",
        "channel_id = '872240825017446410'"
      ],
      "metadata": {
        "id": "Bo56ECGorrjy"
      },
      "execution_count": null,
      "outputs": []
    },
    {
      "cell_type": "code",
      "metadata": {
        "id": "pgg2cdOulQHe"
      },
      "source": [
        "def retrieve_msg(channel_id):\n",
        "  headers = {'authorization': auth_code}\n",
        "  r = requests.get(f'https://discord.com/api/v9/channels/{channel_id}/messages?limit=100', headers=headers)\n",
        "  jsonn = json.loads(r.text)\n",
        "\n",
        "  results=[]\n",
        "  for value in jsonn:\n",
        "    results.append((value['content'], value['author']['username']))\n",
        "  return results"
      ],
      "execution_count": null,
      "outputs": []
    },
    {
      "cell_type": "code",
      "metadata": {
        "id": "wqmOWujsmu0E"
      },
      "source": [
        "res = retrieve_msg(channel_id)"
      ],
      "execution_count": null,
      "outputs": []
    },
    {
      "cell_type": "code",
      "metadata": {
        "id": "t6K7ul5lCWIY"
      },
      "source": [
        "res_df = pd.DataFrame(res, columns=['content', 'username'])"
      ],
      "execution_count": null,
      "outputs": []
    },
    {
      "cell_type": "code",
      "metadata": {
        "id": "m8E_f-5EH_LB",
        "colab": {
          "base_uri": "https://localhost:8080/",
          "height": 206
        },
        "outputId": "e56825a5-206b-47dc-90d1-deedccd720eb"
      },
      "source": [
        "res_df.head()"
      ],
      "execution_count": null,
      "outputs": [
        {
          "output_type": "execute_result",
          "data": {
            "text/html": [
              "<div>\n",
              "<style scoped>\n",
              "    .dataframe tbody tr th:only-of-type {\n",
              "        vertical-align: middle;\n",
              "    }\n",
              "\n",
              "    .dataframe tbody tr th {\n",
              "        vertical-align: top;\n",
              "    }\n",
              "\n",
              "    .dataframe thead th {\n",
              "        text-align: right;\n",
              "    }\n",
              "</style>\n",
              "<table border=\"1\" class=\"dataframe\">\n",
              "  <thead>\n",
              "    <tr style=\"text-align: right;\">\n",
              "      <th></th>\n",
              "      <th>content</th>\n",
              "      <th>username</th>\n",
              "    </tr>\n",
              "  </thead>\n",
              "  <tbody>\n",
              "    <tr>\n",
              "      <th>0</th>\n",
              "      <td>Cool thanks</td>\n",
              "      <td>Z_Z</td>\n",
              "    </tr>\n",
              "    <tr>\n",
              "      <th>1</th>\n",
              "      <td>No correlation at all</td>\n",
              "      <td>OG</td>\n",
              "    </tr>\n",
              "    <tr>\n",
              "      <th>2</th>\n",
              "      <td>It’s random</td>\n",
              "      <td>MrCopper</td>\n",
              "    </tr>\n",
              "    <tr>\n",
              "      <th>3</th>\n",
              "      <td>Hey quick question to anyone that might know d...</td>\n",
              "      <td>Z_Z</td>\n",
              "    </tr>\n",
              "    <tr>\n",
              "      <th>4</th>\n",
              "      <td>That purple pigeon hoodie tho</td>\n",
              "      <td>ReadyReset0456</td>\n",
              "    </tr>\n",
              "  </tbody>\n",
              "</table>\n",
              "</div>"
            ],
            "text/plain": [
              "                                             content        username\n",
              "0                                        Cool thanks             Z_Z\n",
              "1                              No correlation at all              OG\n",
              "2                                        It’s random        MrCopper\n",
              "3  Hey quick question to anyone that might know d...             Z_Z\n",
              "4                      That purple pigeon hoodie tho  ReadyReset0456"
            ]
          },
          "metadata": {},
          "execution_count": 24
        }
      ]
    }
  ]
}