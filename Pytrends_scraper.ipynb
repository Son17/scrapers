{
  "nbformat": 4,
  "nbformat_minor": 0,
  "metadata": {
    "colab": {
      "name": "Pytrends_blockchain_1121.ipynb",
      "provenance": [],
      "collapsed_sections": []
    },
    "kernelspec": {
      "name": "python3",
      "display_name": "Python 3"
    }
  },
  "cells": [
    {
      "cell_type": "markdown",
      "metadata": {
        "id": "kdivt9HRdhUg"
      },
      "source": [
        "**This notebook extracts last month's top and rising topics on recipes from Google Trends**"
      ]
    },
    {
      "cell_type": "code",
      "metadata": {
        "id": "kFFCPYyMXgFh",
        "colab": {
          "base_uri": "https://localhost:8080/"
        },
        "outputId": "52a9862a-0ea6-4531-fdbf-97fd5c862574"
      },
      "source": [
        "!pip install pytrends"
      ],
      "execution_count": null,
      "outputs": [
        {
          "output_type": "stream",
          "name": "stdout",
          "text": [
            "Collecting pytrends\n",
            "  Downloading pytrends-4.7.3-py3-none-any.whl (14 kB)\n",
            "Requirement already satisfied: requests in /usr/local/lib/python3.7/dist-packages (from pytrends) (2.23.0)\n",
            "Requirement already satisfied: lxml in /usr/local/lib/python3.7/dist-packages (from pytrends) (4.2.6)\n",
            "Requirement already satisfied: pandas>=0.25 in /usr/local/lib/python3.7/dist-packages (from pytrends) (1.1.5)\n",
            "Requirement already satisfied: python-dateutil>=2.7.3 in /usr/local/lib/python3.7/dist-packages (from pandas>=0.25->pytrends) (2.8.2)\n",
            "Requirement already satisfied: pytz>=2017.2 in /usr/local/lib/python3.7/dist-packages (from pandas>=0.25->pytrends) (2018.9)\n",
            "Requirement already satisfied: numpy>=1.15.4 in /usr/local/lib/python3.7/dist-packages (from pandas>=0.25->pytrends) (1.19.5)\n",
            "Requirement already satisfied: six>=1.5 in /usr/local/lib/python3.7/dist-packages (from python-dateutil>=2.7.3->pandas>=0.25->pytrends) (1.15.0)\n",
            "Requirement already satisfied: chardet<4,>=3.0.2 in /usr/local/lib/python3.7/dist-packages (from requests->pytrends) (3.0.4)\n",
            "Requirement already satisfied: idna<3,>=2.5 in /usr/local/lib/python3.7/dist-packages (from requests->pytrends) (2.10)\n",
            "Requirement already satisfied: certifi>=2017.4.17 in /usr/local/lib/python3.7/dist-packages (from requests->pytrends) (2021.10.8)\n",
            "Requirement already satisfied: urllib3!=1.25.0,!=1.25.1,<1.26,>=1.21.1 in /usr/local/lib/python3.7/dist-packages (from requests->pytrends) (1.24.3)\n",
            "Installing collected packages: pytrends\n",
            "Successfully installed pytrends-4.7.3\n"
          ]
        }
      ]
    },
    {
      "cell_type": "code",
      "metadata": {
        "id": "Oz94rATsXUgV"
      },
      "source": [
        "import pandas as pd\n",
        "import numpy as np\n",
        "import seaborn as sns\n",
        "import matplotlib.pyplot as plt\n",
        "%matplotlib inline\n",
        "import gc\n",
        "import pytrends"
      ],
      "execution_count": null,
      "outputs": []
    },
    {
      "cell_type": "code",
      "metadata": {
        "id": "2SeLWmGaZJ_j"
      },
      "source": [
        "from google.colab import auth\n",
        "auth.authenticate_user()\n",
        "import gspread\n",
        "from oauth2client.client import GoogleCredentials\n",
        "gc = gspread.authorize(GoogleCredentials.get_application_default())"
      ],
      "execution_count": null,
      "outputs": []
    },
    {
      "cell_type": "code",
      "metadata": {
        "id": "WE7tgKwUXgKt"
      },
      "source": [
        "#trending topics\n",
        "\n",
        "from pytrends.request import TrendReq\n",
        "pytrend = TrendReq(tz=360) #geo = 'UK',"
      ],
      "execution_count": null,
      "outputs": []
    },
    {
      "cell_type": "code",
      "metadata": {
        "colab": {
          "base_uri": "https://localhost:8080/"
        },
        "id": "v0EwnSQX9Tm3",
        "outputId": "a778df8d-8c0e-4b11-a694-1f3078aa8886"
      },
      "source": [
        "# build the payload\n",
        "pytrend.build_payload(kw_list=['Metaverse'], timeframe='today 1-m') #, geo='US'\n",
        "\n",
        "# get related queries\n",
        "df_rq = pytrend.related_queries()\n",
        "\n",
        "# display df_rq\n",
        "print(df_rq)"
      ],
      "execution_count": null,
      "outputs": [
        {
          "output_type": "stream",
          "name": "stdout",
          "text": [
            "{'Metaverse': {'top':                          query  value\n",
            "0           facebook metaverse    100\n",
            "1             crypto metaverse     64\n",
            "2               metaverse coin     61\n",
            "3                the metaverse     52\n",
            "4            what is metaverse     50\n",
            "5                         meta     47\n",
            "6            metaverse meaning     46\n",
            "7              metaverse stock     32\n",
            "8         metaverse zuckerberg     25\n",
            "9    metaverse mark zuckerberg     20\n",
            "10             mark zuckerberg     20\n",
            "11             metaverse coins     19\n",
            "12                         nft     15\n",
            "13               meta facebook     15\n",
            "14               metaverse nft     15\n",
            "15             metaverse nedir     14\n",
            "16       what is the metaverse     14\n",
            "17             metaverse token     13\n",
            "18              mana metaverse      9\n",
            "19              metaverse game      9\n",
            "20           metaverse company      9\n",
            "21      metaverse crypto coins      9\n",
            "22  what is metaverse facebook      9\n",
            "23               metaverse etf      8\n",
            "24       facebook to metaverse      8, 'rising':                                      query   value\n",
            "0                          metaverse coins  223250\n",
            "1                            meta facebook  179650\n",
            "2                           mana metaverse  111150\n",
            "3                   metaverse crypto coins  104600\n",
            "4               what is metaverse facebook  103050\n",
            "5                    facebook to metaverse   96700\n",
            "6                     facebook name change   92150\n",
            "7                      metaverse coin list   79750\n",
            "8                 what is metaverse crypto   78750\n",
            "9                             meta meaning   72450\n",
            "10                            decentraland   65850\n",
            "11                            fb metaverse   52150\n",
            "12                              meta stock   51550\n",
            "13                metaverse cryptocurrency   47500\n",
            "14  facebook change company name metaverse   44700\n",
            "15                    metaverse definition   42350\n",
            "16              how to invest in metaverse   38750\n",
            "17                         metaverse aktie   34500\n",
            "18                     top metaverse coins   32950\n",
            "19                       facebook new name   31350\n",
            "20         mark zuckerberg metaverse video   25100\n",
            "21                              star atlas   22550\n",
            "22                          nike metaverse   19650\n",
            "23                        disney metaverse   18800\n",
            "24            how to buy land in metaverse   15800}}\n"
          ]
        }
      ]
    },
    {
      "cell_type": "code",
      "metadata": {
        "id": "P1_-YhUItbwd"
      },
      "source": [
        "kw_list = ['Metaverse'] "
      ],
      "execution_count": null,
      "outputs": []
    },
    {
      "cell_type": "code",
      "metadata": {
        "id": "e5A1kFuZXgNr"
      },
      "source": [
        "#build payload: define timeframe, country\n",
        "\n",
        "pytrend.build_payload(kw_list=kw_list, timeframe='today 1-m', gprop='') #geo='GB-ENG' #'now 7-d'"
      ],
      "execution_count": null,
      "outputs": []
    },
    {
      "cell_type": "code",
      "metadata": {
        "id": "5mJdr6T-YfE1"
      },
      "source": [
        "# Related Topics, returns a dictionary of dataframes: use to build network\n",
        "topics = pytrend.related_topics()\n",
        "topics_rising = topics['Metaverse']['rising']\n",
        "topics_top = topics['Metaverse']['top']"
      ],
      "execution_count": null,
      "outputs": []
    },
    {
      "cell_type": "code",
      "metadata": {
        "id": "J9n84SM5yyUQ",
        "colab": {
          "base_uri": "https://localhost:8080/",
          "height": 204
        },
        "outputId": "902360e7-24d9-406b-b173-8bced667b00a"
      },
      "source": [
        "topics_rising.head()"
      ],
      "execution_count": null,
      "outputs": [
        {
          "output_type": "execute_result",
          "data": {
            "text/html": [
              "<div>\n",
              "<style scoped>\n",
              "    .dataframe tbody tr th:only-of-type {\n",
              "        vertical-align: middle;\n",
              "    }\n",
              "\n",
              "    .dataframe tbody tr th {\n",
              "        vertical-align: top;\n",
              "    }\n",
              "\n",
              "    .dataframe thead th {\n",
              "        text-align: right;\n",
              "    }\n",
              "</style>\n",
              "<table border=\"1\" class=\"dataframe\">\n",
              "  <thead>\n",
              "    <tr style=\"text-align: right;\">\n",
              "      <th></th>\n",
              "      <th>value</th>\n",
              "      <th>formattedValue</th>\n",
              "      <th>link</th>\n",
              "      <th>topic_mid</th>\n",
              "      <th>topic_title</th>\n",
              "      <th>topic_type</th>\n",
              "    </tr>\n",
              "  </thead>\n",
              "  <tbody>\n",
              "    <tr>\n",
              "      <th>0</th>\n",
              "      <td>103550</td>\n",
              "      <td>Breakout</td>\n",
              "      <td>/trends/explore?q=/m/0f_z7&amp;date=today+1-m</td>\n",
              "      <td>/m/0f_z7</td>\n",
              "      <td>Name change</td>\n",
              "      <td>Topic</td>\n",
              "    </tr>\n",
              "    <tr>\n",
              "      <th>1</th>\n",
              "      <td>86400</td>\n",
              "      <td>Breakout</td>\n",
              "      <td>/trends/explore?q=/g/11gk74sk03&amp;date=today+1-m</td>\n",
              "      <td>/g/11gk74sk03</td>\n",
              "      <td>CoinMarketCap OpCo, LLC</td>\n",
              "      <td>Company</td>\n",
              "    </tr>\n",
              "    <tr>\n",
              "      <th>2</th>\n",
              "      <td>73050</td>\n",
              "      <td>Breakout</td>\n",
              "      <td>/trends/explore?q=/m/077hh&amp;date=today+1-m</td>\n",
              "      <td>/m/077hh</td>\n",
              "      <td>Shiba Inu</td>\n",
              "      <td>Dog breed</td>\n",
              "    </tr>\n",
              "    <tr>\n",
              "      <th>3</th>\n",
              "      <td>55800</td>\n",
              "      <td>Breakout</td>\n",
              "      <td>/trends/explore?q=/m/0553b&amp;date=today+1-m</td>\n",
              "      <td>/m/0553b</td>\n",
              "      <td>Meta element</td>\n",
              "      <td>Topic</td>\n",
              "    </tr>\n",
              "    <tr>\n",
              "      <th>4</th>\n",
              "      <td>31900</td>\n",
              "      <td>Breakout</td>\n",
              "      <td>/trends/explore?q=/m/07tn5&amp;date=today+1-m</td>\n",
              "      <td>/m/07tn5</td>\n",
              "      <td>Unidentified flying object</td>\n",
              "      <td>Topic</td>\n",
              "    </tr>\n",
              "  </tbody>\n",
              "</table>\n",
              "</div>"
            ],
            "text/plain": [
              "    value formattedValue  ...                 topic_title topic_type\n",
              "0  103550       Breakout  ...                 Name change      Topic\n",
              "1   86400       Breakout  ...     CoinMarketCap OpCo, LLC    Company\n",
              "2   73050       Breakout  ...                   Shiba Inu  Dog breed\n",
              "3   55800       Breakout  ...                Meta element      Topic\n",
              "4   31900       Breakout  ...  Unidentified flying object      Topic\n",
              "\n",
              "[5 rows x 6 columns]"
            ]
          },
          "metadata": {},
          "execution_count": 9
        }
      ]
    },
    {
      "cell_type": "code",
      "metadata": {
        "id": "KLxWv9YwfCMg",
        "colab": {
          "base_uri": "https://localhost:8080/",
          "height": 401
        },
        "outputId": "cf64bf66-9962-44e1-c3d9-b4057f39076d"
      },
      "source": [
        "ax = sns.barplot(x=\"topic_title\", y=\"value\", data=topics_rising,\n",
        "                 palette=\"Blues_d\")\n",
        "for tick in ax.get_xticklabels():\n",
        "    tick.set_rotation(90)\n",
        "ax.set_xlabel('')\n",
        "ax.set_ylabel('% increase over 1M')\n",
        "ax.set_title('Trending topics')\n",
        "plt.show()"
      ],
      "execution_count": null,
      "outputs": [
        {
          "output_type": "display_data",
          "data": {
            "image/png": "[encoded data removed]",
            "text/plain": [
              "<Figure size 432x288 with 1 Axes>"
            ]
          },
          "metadata": {
            "needs_background": "light"
          }
        }
      ]
    },
    {
      "cell_type": "code",
      "metadata": {
        "id": "QUouJuG7b9Tn"
      },
      "source": [
        "# Related Queries, returns a dictionary of dataframes\n",
        "related_queries = pytrend.related_queries()\n",
        "related_rising = related_queries['Metaverse']['rising']"
      ],
      "execution_count": null,
      "outputs": []
    },
    {
      "cell_type": "code",
      "metadata": {
        "id": "dDqOFyKXwvcE"
      },
      "source": [
        "related_top = related_queries['Metaverse']['top']"
      ],
      "execution_count": 1,
      "outputs": []
    },
    {
      "cell_type": "code",
      "metadata": {
        "id": "-ThKp4zIuOGN",
        "colab": {
          "base_uri": "https://localhost:8080/",
          "height": 204
        },
        "outputId": "75239819-2dfe-4a71-e105-2a8d8c1ca22f"
      },
      "source": [
        "topics_top.head(5)"
      ],
      "execution_count": null,
      "outputs": [
        {
          "output_type": "execute_result",
          "data": {
            "text/html": [
              "<div>\n",
              "<style scoped>\n",
              "    .dataframe tbody tr th:only-of-type {\n",
              "        vertical-align: middle;\n",
              "    }\n",
              "\n",
              "    .dataframe tbody tr th {\n",
              "        vertical-align: top;\n",
              "    }\n",
              "\n",
              "    .dataframe thead th {\n",
              "        text-align: right;\n",
              "    }\n",
              "</style>\n",
              "<table border=\"1\" class=\"dataframe\">\n",
              "  <thead>\n",
              "    <tr style=\"text-align: right;\">\n",
              "      <th></th>\n",
              "      <th>value</th>\n",
              "      <th>formattedValue</th>\n",
              "      <th>hasData</th>\n",
              "      <th>link</th>\n",
              "      <th>topic_mid</th>\n",
              "      <th>topic_title</th>\n",
              "      <th>topic_type</th>\n",
              "    </tr>\n",
              "  </thead>\n",
              "  <tbody>\n",
              "    <tr>\n",
              "      <th>0</th>\n",
              "      <td>100</td>\n",
              "      <td>100</td>\n",
              "      <td>True</td>\n",
              "      <td>/trends/explore?q=/m/054_cb&amp;date=today+1-m</td>\n",
              "      <td>/m/054_cb</td>\n",
              "      <td>Metaverse</td>\n",
              "      <td>Topic</td>\n",
              "    </tr>\n",
              "    <tr>\n",
              "      <th>1</th>\n",
              "      <td>9</td>\n",
              "      <td>9</td>\n",
              "      <td>True</td>\n",
              "      <td>/trends/explore?q=/m/0242l&amp;date=today+1-m</td>\n",
              "      <td>/m/0242l</td>\n",
              "      <td>Coin</td>\n",
              "      <td>Topic</td>\n",
              "    </tr>\n",
              "    <tr>\n",
              "      <th>2</th>\n",
              "      <td>9</td>\n",
              "      <td>9</td>\n",
              "      <td>True</td>\n",
              "      <td>/trends/explore?q=/m/0vpj4_b&amp;date=today+1-m</td>\n",
              "      <td>/m/0vpj4_b</td>\n",
              "      <td>Cryptocurrency</td>\n",
              "      <td>Topic</td>\n",
              "    </tr>\n",
              "    <tr>\n",
              "      <th>3</th>\n",
              "      <td>6</td>\n",
              "      <td>6</td>\n",
              "      <td>True</td>\n",
              "      <td>/trends/explore?q=/m/077mq&amp;date=today+1-m</td>\n",
              "      <td>/m/077mq</td>\n",
              "      <td>Stock</td>\n",
              "      <td>Topic</td>\n",
              "    </tr>\n",
              "    <tr>\n",
              "      <th>4</th>\n",
              "      <td>4</td>\n",
              "      <td>4</td>\n",
              "      <td>True</td>\n",
              "      <td>/trends/explore?q=/m/086dny&amp;date=today+1-m</td>\n",
              "      <td>/m/086dny</td>\n",
              "      <td>Mark Zuckerberg</td>\n",
              "      <td>Chief Executive Officer of Facebook</td>\n",
              "    </tr>\n",
              "  </tbody>\n",
              "</table>\n",
              "</div>"
            ],
            "text/plain": [
              "   value formattedValue  ...      topic_title                           topic_type\n",
              "0    100            100  ...        Metaverse                                Topic\n",
              "1      9              9  ...             Coin                                Topic\n",
              "2      9              9  ...   Cryptocurrency                                Topic\n",
              "3      6              6  ...            Stock                                Topic\n",
              "4      4              4  ...  Mark Zuckerberg  Chief Executive Officer of Facebook\n",
              "\n",
              "[5 rows x 7 columns]"
            ]
          },
          "metadata": {},
          "execution_count": 27
        }
      ]
    },
    {
      "cell_type": "code",
      "metadata": {
        "id": "0ZXGCSdWLHJm"
      },
      "source": [
        "over_time = pytrend.interest_over_time()"
      ],
      "execution_count": null,
      "outputs": []
    },
    {
      "cell_type": "code",
      "metadata": {
        "colab": {
          "base_uri": "https://localhost:8080/"
        },
        "id": "yrwEcHQIjdzz",
        "outputId": "d3e55d5d-e69d-4fe8-b184-5250ff0dd1e3"
      },
      "source": [
        "from pytrends import dailydata\n",
        "\n",
        "df = dailydata.get_daily_data('Metaverse', 2021, 10, 2021, 11) #, geo = 'US'\n",
        "\n",
        "#print(df)"
      ],
      "execution_count": null,
      "outputs": [
        {
          "output_type": "stream",
          "name": "stdout",
          "text": [
            "Metaverse:2021-10-01 2021-10-31\n",
            "Metaverse:2021-11-01 2021-11-30\n"
          ]
        }
      ]
    },
    {
      "cell_type": "code",
      "metadata": {
        "colab": {
          "base_uri": "https://localhost:8080/",
          "height": 235
        },
        "id": "UK4mXmUbjrL9",
        "outputId": "39c61941-4783-4f5f-95ba-3de91db3d099"
      },
      "source": [
        "df.tail()"
      ],
      "execution_count": null,
      "outputs": [
        {
          "output_type": "execute_result",
          "data": {
            "text/html": [
              "<div>\n",
              "<style scoped>\n",
              "    .dataframe tbody tr th:only-of-type {\n",
              "        vertical-align: middle;\n",
              "    }\n",
              "\n",
              "    .dataframe tbody tr th {\n",
              "        vertical-align: top;\n",
              "    }\n",
              "\n",
              "    .dataframe thead th {\n",
              "        text-align: right;\n",
              "    }\n",
              "</style>\n",
              "<table border=\"1\" class=\"dataframe\">\n",
              "  <thead>\n",
              "    <tr style=\"text-align: right;\">\n",
              "      <th></th>\n",
              "      <th>Metaverse_unscaled</th>\n",
              "      <th>Metaverse_monthly</th>\n",
              "      <th>isPartial</th>\n",
              "      <th>scale</th>\n",
              "      <th>Metaverse</th>\n",
              "    </tr>\n",
              "    <tr>\n",
              "      <th>date</th>\n",
              "      <th></th>\n",
              "      <th></th>\n",
              "      <th></th>\n",
              "      <th></th>\n",
              "      <th></th>\n",
              "    </tr>\n",
              "  </thead>\n",
              "  <tbody>\n",
              "    <tr>\n",
              "      <th>2021-11-10</th>\n",
              "      <td>81</td>\n",
              "      <td>26</td>\n",
              "      <td>False</td>\n",
              "      <td>0.26</td>\n",
              "      <td>21.06</td>\n",
              "    </tr>\n",
              "    <tr>\n",
              "      <th>2021-11-11</th>\n",
              "      <td>79</td>\n",
              "      <td>26</td>\n",
              "      <td>False</td>\n",
              "      <td>0.26</td>\n",
              "      <td>20.54</td>\n",
              "    </tr>\n",
              "    <tr>\n",
              "      <th>2021-11-12</th>\n",
              "      <td>85</td>\n",
              "      <td>29</td>\n",
              "      <td>False</td>\n",
              "      <td>0.29</td>\n",
              "      <td>24.65</td>\n",
              "    </tr>\n",
              "    <tr>\n",
              "      <th>2021-11-13</th>\n",
              "      <td>74</td>\n",
              "      <td>24</td>\n",
              "      <td>False</td>\n",
              "      <td>0.24</td>\n",
              "      <td>17.76</td>\n",
              "    </tr>\n",
              "    <tr>\n",
              "      <th>2021-11-14</th>\n",
              "      <td>75</td>\n",
              "      <td>24</td>\n",
              "      <td>False</td>\n",
              "      <td>0.24</td>\n",
              "      <td>18.00</td>\n",
              "    </tr>\n",
              "  </tbody>\n",
              "</table>\n",
              "</div>"
            ],
            "text/plain": [
              "            Metaverse_unscaled  Metaverse_monthly  isPartial  scale  Metaverse\n",
              "date                                                                          \n",
              "2021-11-10                  81                 26      False   0.26      21.06\n",
              "2021-11-11                  79                 26      False   0.26      20.54\n",
              "2021-11-12                  85                 29      False   0.29      24.65\n",
              "2021-11-13                  74                 24      False   0.24      17.76\n",
              "2021-11-14                  75                 24      False   0.24      18.00"
            ]
          },
          "metadata": {},
          "execution_count": 30
        }
      ]
    },
    {
      "cell_type": "code",
      "metadata": {
        "id": "UEwhq7R9lbo6",
        "colab": {
          "base_uri": "https://localhost:8080/",
          "height": 300
        },
        "outputId": "a9493285-de8b-4cc3-aaca-48c0c606281b"
      },
      "source": [
        "df.Metaverse.plot()\n",
        "plt.xlabel('')\n",
        "plt.show()"
      ],
      "execution_count": null,
      "outputs": [
        {
          "output_type": "display_data",
          "data": {
            "image/png": "[encoded data removed]",
            "text/plain": [
              "<Figure size 432x288 with 1 Axes>"
            ]
          },
          "metadata": {
            "needs_background": "light"
          }
        }
      ]
    }
  ]
}
