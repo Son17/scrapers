{
  "nbformat": 4,
  "nbformat_minor": 0,
  "metadata": {
    "colab": {
      "name": "For_sharing_ Reddit_scraper.ipynb",
      "provenance": [],
      "collapsed_sections": []
    },
    "kernelspec": {
      "name": "python3",
      "display_name": "Python 3"
    }
  },
  "cells": [
    {
      "cell_type": "code",
      "metadata": {
        "id": "AzZNX3AxBkZs",
        "colab": {
          "base_uri": "https://localhost:8080/"
        },
        "outputId": "33e1efb2-6dd2-4915-c109-09ac2f700871"
      },
      "source": [
        "!pip install praw"
      ],
      "execution_count": null,
      "outputs": [
        {
          "output_type": "stream",
          "name": "stdout",
          "text": [
            "Collecting praw\n",
            "  Downloading praw-7.4.0-py3-none-any.whl (167 kB)\n",
            "\u001b[K     |████████████████████████████████| 167 kB 8.8 MB/s \n",
            "\u001b[?25hCollecting update-checker>=0.18\n",
            "  Downloading update_checker-0.18.0-py3-none-any.whl (7.0 kB)\n",
            "Collecting prawcore<3,>=2.1\n",
            "  Downloading prawcore-2.3.0-py3-none-any.whl (16 kB)\n",
            "Collecting websocket-client>=0.54.0\n",
            "  Downloading websocket_client-1.2.1-py2.py3-none-any.whl (52 kB)\n",
            "\u001b[K     |████████████████████████████████| 52 kB 1.1 MB/s \n",
            "\u001b[?25hRequirement already satisfied: requests<3.0,>=2.6.0 in /usr/local/lib/python3.7/dist-packages (from prawcore<3,>=2.1->praw) (2.23.0)\n",
            "Requirement already satisfied: certifi>=2017.4.17 in /usr/local/lib/python3.7/dist-packages (from requests<3.0,>=2.6.0->prawcore<3,>=2.1->praw) (2021.10.8)\n",
            "Requirement already satisfied: idna<3,>=2.5 in /usr/local/lib/python3.7/dist-packages (from requests<3.0,>=2.6.0->prawcore<3,>=2.1->praw) (2.10)\n",
            "Requirement already satisfied: chardet<4,>=3.0.2 in /usr/local/lib/python3.7/dist-packages (from requests<3.0,>=2.6.0->prawcore<3,>=2.1->praw) (3.0.4)\n",
            "Requirement already satisfied: urllib3!=1.25.0,!=1.25.1,<1.26,>=1.21.1 in /usr/local/lib/python3.7/dist-packages (from requests<3.0,>=2.6.0->prawcore<3,>=2.1->praw) (1.24.3)\n",
            "Installing collected packages: websocket-client, update-checker, prawcore, praw\n",
            "Successfully installed praw-7.4.0 prawcore-2.3.0 update-checker-0.18.0 websocket-client-1.2.1\n"
          ]
        }
      ]
    },
    {
      "cell_type": "code",
      "metadata": {
        "id": "TEjqgdcip6jG"
      },
      "source": [
        "!pip install tweet-preprocessor"
      ],
      "execution_count": null,
      "outputs": []
    },
    {
      "cell_type": "code",
      "metadata": {
        "id": "e3km3Zt5pXsc"
      },
      "source": [
        "import nltk\n",
        "#nltk.download('averaged_perceptron_tagger')"
      ],
      "execution_count": null,
      "outputs": []
    },
    {
      "cell_type": "code",
      "metadata": {
        "id": "H56SSB0gBco7"
      },
      "source": [
        "import pandas as pd\n",
        "import numpy as np\n",
        "import seaborn as sns\n",
        "import matplotlib.pyplot as plt\n",
        "%matplotlib inline\n",
        "import gc\n",
        "import praw\n",
        "import datetime as dt\n",
        "from nltk import FreqDist, pos_tag"
      ],
      "execution_count": null,
      "outputs": []
    },
    {
      "cell_type": "code",
      "metadata": {
        "colab": {
          "base_uri": "https://localhost:8080/"
        },
        "id": "eE_8kpwbCbX5",
        "outputId": "7101f805-fc46-46ac-a145-01dbb8256d0b"
      },
      "source": [
        "from google.colab import drive\n",
        "drive.mount('/content/drive')"
      ],
      "execution_count": null,
      "outputs": [
        {
          "output_type": "stream",
          "name": "stdout",
          "text": [
            "Mounted at /content/drive\n"
          ]
        }
      ]
    },
    {
      "cell_type": "markdown",
      "source": [
        "**Add Reddit credentials**"
      ],
      "metadata": {
        "id": "udy5TtcrqmmI"
      }
    },
    {
      "cell_type": "code",
      "metadata": {
        "id": "c6nBBUkhBk7w"
      },
      "source": [
        "reddit = praw.Reddit(client_id='XXX', \\\n",
        "                     client_secret='-XXX', \\\n",
        "                     user_agent='reddit_scraper', \\\n",
        "                     username='XXX', \\\n",
        "                     password='XXX')"
      ],
      "execution_count": null,
      "outputs": []
    },
    {
      "cell_type": "markdown",
      "source": [
        "**Scrape Reddit**"
      ],
      "metadata": {
        "id": "I68-dQ4kq9io"
      }
    },
    {
      "cell_type": "code",
      "source": [
        "#define keyword\n",
        "\n",
        "keyword = 'nft'"
      ],
      "metadata": {
        "id": "TdbXBC86qsVI"
      },
      "execution_count": null,
      "outputs": []
    },
    {
      "cell_type": "code",
      "metadata": {
        "id": "gYw_5rowBk-p"
      },
      "source": [
        "subreddit = reddit.subreddit(keyword)"
      ],
      "execution_count": null,
      "outputs": []
    },
    {
      "cell_type": "code",
      "metadata": {
        "id": "kwtFWFeLBlBV"
      },
      "source": [
        "top_subreddit = subreddit.top()"
      ],
      "execution_count": null,
      "outputs": []
    },
    {
      "cell_type": "code",
      "metadata": {
        "colab": {
          "base_uri": "https://localhost:8080/"
        },
        "id": "zBzBGmWTBlD9",
        "outputId": "861c945d-1436-459b-d45a-2628737b8878"
      },
      "source": [
        "for submission in subreddit.top(limit=10):\n",
        "    print(submission.title)"
      ],
      "execution_count": null,
      "outputs": [
        {
          "output_type": "stream",
          "name": "stderr",
          "text": [
            "It appears that you are using PRAW in an asynchronous environment.\n",
            "It is strongly recommended to use Async PRAW: https://asyncpraw.readthedocs.io.\n",
            "See https://praw.readthedocs.io/en/latest/getting_started/multiple_instances.html#discord-bots-and-asynchronous-environments for more info.\n",
            "\n"
          ]
        },
        {
          "output_type": "stream",
          "name": "stdout",
          "text": [
            "Interesting use case for NFTs. lol\n",
            "What are NFTs? How to mint an NFT? Why are NFTs valuable? - Starting guide to NFTs\n",
            "REAL LIFE NFT ART GALLERY IN ATLANTA, GEORGIA\n",
            "NFT: expectation vs. reality (a flipbook)\n",
            "Flirting done right\n",
            "Finally listed my 1st NFT. Motion Sigularity. Part 1 in a series I recently finished about mathmatically distorted spaces.\n",
            "My 1st Jewelry Design. I call it the “Ethereum Block Chain”. I wanted to make a cool way to display NFTs. Digital x Physical assets.\n",
            "Really do be like that sometimes 👀 !\n",
            "Newbies in crypto be like\n",
            "Minted my first NFT today\n"
          ]
        }
      ]
    },
    {
      "cell_type": "code",
      "metadata": {
        "id": "6yaROQpyBlGV"
      },
      "source": [
        "topics_dict = { \"title\":[], \n",
        "                \"score\":[], \n",
        "                \"id\":[], \"url\":[],  \n",
        "                \"comms_num\": [], \n",
        "                \"created\": [], \n",
        "                \"body\":[]}"
      ],
      "execution_count": null,
      "outputs": []
    },
    {
      "cell_type": "code",
      "metadata": {
        "id": "8XMpMxZvCJPp",
        "colab": {
          "base_uri": "https://localhost:8080/"
        },
        "outputId": "0273ea9d-32dd-4272-dce4-12679ce9f2ed"
      },
      "source": [
        "for submission in top_subreddit:\n",
        "    topics_dict[\"title\"].append(submission.title)\n",
        "    topics_dict[\"score\"].append(submission.score)\n",
        "    topics_dict[\"id\"].append(submission.id)\n",
        "    topics_dict[\"url\"].append(submission.url)\n",
        "    topics_dict[\"comms_num\"].append(submission.num_comments)\n",
        "    topics_dict[\"created\"].append(submission.created)\n",
        "    topics_dict[\"body\"].append(submission.selftext)"
      ],
      "execution_count": null,
      "outputs": [
        {
          "output_type": "stream",
          "name": "stderr",
          "text": [
            "It appears that you are using PRAW in an asynchronous environment.\n",
            "It is strongly recommended to use Async PRAW: https://asyncpraw.readthedocs.io.\n",
            "See https://praw.readthedocs.io/en/latest/getting_started/multiple_instances.html#discord-bots-and-asynchronous-environments for more info.\n",
            "\n"
          ]
        }
      ]
    },
    {
      "cell_type": "code",
      "metadata": {
        "id": "XXeFM1UOCJT3"
      },
      "source": [
        "topics_data = pd.DataFrame(topics_dict)"
      ],
      "execution_count": null,
      "outputs": []
    },
    {
      "cell_type": "code",
      "metadata": {
        "id": "oPxZJO1ICJXp"
      },
      "source": [
        "def get_date(created):\n",
        "    return dt.datetime.fromtimestamp(created)"
      ],
      "execution_count": null,
      "outputs": []
    },
    {
      "cell_type": "code",
      "metadata": {
        "id": "4F5Z23rhCJav"
      },
      "source": [
        "_timestamp = topics_data[\"created\"].apply(get_date)"
      ],
      "execution_count": null,
      "outputs": []
    },
    {
      "cell_type": "code",
      "metadata": {
        "id": "J_1QL3X2CJd2"
      },
      "source": [
        "topics_data = topics_data.assign(timestamp = _timestamp)"
      ],
      "execution_count": null,
      "outputs": []
    },
    {
      "cell_type": "code",
      "metadata": {
        "colab": {
          "base_uri": "https://localhost:8080/",
          "height": 419
        },
        "id": "r6nlnARmFda8",
        "outputId": "0cf99379-35bd-4b39-fd9d-1ccc389cadbc"
      },
      "source": [
        "topics_data"
      ],
      "execution_count": null,
      "outputs": [
        {
          "output_type": "execute_result",
          "data": {
            "text/html": [
              "<div>\n",
              "<style scoped>\n",
              "    .dataframe tbody tr th:only-of-type {\n",
              "        vertical-align: middle;\n",
              "    }\n",
              "\n",
              "    .dataframe tbody tr th {\n",
              "        vertical-align: top;\n",
              "    }\n",
              "\n",
              "    .dataframe thead th {\n",
              "        text-align: right;\n",
              "    }\n",
              "</style>\n",
              "<table border=\"1\" class=\"dataframe\">\n",
              "  <thead>\n",
              "    <tr style=\"text-align: right;\">\n",
              "      <th></th>\n",
              "      <th>title</th>\n",
              "      <th>score</th>\n",
              "      <th>id</th>\n",
              "      <th>url</th>\n",
              "      <th>comms_num</th>\n",
              "      <th>created</th>\n",
              "      <th>body</th>\n",
              "      <th>timestamp</th>\n",
              "    </tr>\n",
              "  </thead>\n",
              "  <tbody>\n",
              "    <tr>\n",
              "      <th>0</th>\n",
              "      <td>Interesting use case for NFTs. lol</td>\n",
              "      <td>2859</td>\n",
              "      <td>mbc9m7</td>\n",
              "      <td>https://i.redd.it/3f41a8lufro61.jpg</td>\n",
              "      <td>178</td>\n",
              "      <td>1.616498e+09</td>\n",
              "      <td></td>\n",
              "      <td>2021-03-23 11:07:03</td>\n",
              "    </tr>\n",
              "    <tr>\n",
              "      <th>1</th>\n",
              "      <td>What are NFTs? How to mint an NFT? Why are NFT...</td>\n",
              "      <td>2406</td>\n",
              "      <td>kw8tu3</td>\n",
              "      <td>https://www.reddit.com/r/NFT/comments/kw8tu3/w...</td>\n",
              "      <td>1295</td>\n",
              "      <td>1.610512e+09</td>\n",
              "      <td>**Hello everyone, welcome to the world of NFTs...</td>\n",
              "      <td>2021-01-13 04:21:00</td>\n",
              "    </tr>\n",
              "    <tr>\n",
              "      <th>2</th>\n",
              "      <td>REAL LIFE NFT ART GALLERY IN ATLANTA, GEORGIA</td>\n",
              "      <td>2171</td>\n",
              "      <td>mekcvx</td>\n",
              "      <td>https://v.redd.it/57ix0stcdmp61</td>\n",
              "      <td>294</td>\n",
              "      <td>1.616872e+09</td>\n",
              "      <td></td>\n",
              "      <td>2021-03-27 19:09:03</td>\n",
              "    </tr>\n",
              "    <tr>\n",
              "      <th>3</th>\n",
              "      <td>NFT: expectation vs. reality (a flipbook)</td>\n",
              "      <td>1776</td>\n",
              "      <td>msrdk5</td>\n",
              "      <td>https://i.imgur.com/JBOGtn1.gifv</td>\n",
              "      <td>125</td>\n",
              "      <td>1.618668e+09</td>\n",
              "      <td></td>\n",
              "      <td>2021-04-17 14:06:56</td>\n",
              "    </tr>\n",
              "    <tr>\n",
              "      <th>4</th>\n",
              "      <td>Flirting done right</td>\n",
              "      <td>1520</td>\n",
              "      <td>mc6u11</td>\n",
              "      <td>https://i.redd.it/pktubv6rizo61.jpg</td>\n",
              "      <td>61</td>\n",
              "      <td>1.616595e+09</td>\n",
              "      <td></td>\n",
              "      <td>2021-03-24 14:18:13</td>\n",
              "    </tr>\n",
              "    <tr>\n",
              "      <th>...</th>\n",
              "      <td>...</td>\n",
              "      <td>...</td>\n",
              "      <td>...</td>\n",
              "      <td>...</td>\n",
              "      <td>...</td>\n",
              "      <td>...</td>\n",
              "      <td>...</td>\n",
              "      <td>...</td>\n",
              "    </tr>\n",
              "    <tr>\n",
              "      <th>95</th>\n",
              "      <td>The Invasion - my second drop on Foundation.</td>\n",
              "      <td>430</td>\n",
              "      <td>m7dgnf</td>\n",
              "      <td>https://i.redd.it/ig8bx4td8on61.jpg</td>\n",
              "      <td>39</td>\n",
              "      <td>1.616023e+09</td>\n",
              "      <td></td>\n",
              "      <td>2021-03-17 23:16:46</td>\n",
              "    </tr>\n",
              "    <tr>\n",
              "      <th>96</th>\n",
              "      <td>My favourite trippy GIF now on Foundation</td>\n",
              "      <td>431</td>\n",
              "      <td>mfw91g</td>\n",
              "      <td>https://v.redd.it/ywzo56yhh0q61</td>\n",
              "      <td>50</td>\n",
              "      <td>1.617043e+09</td>\n",
              "      <td></td>\n",
              "      <td>2021-03-29 18:37:12</td>\n",
              "    </tr>\n",
              "    <tr>\n",
              "      <th>97</th>\n",
              "      <td>Chaotic Mind</td>\n",
              "      <td>428</td>\n",
              "      <td>nngymd</td>\n",
              "      <td>https://i.redd.it/r4lb1gvy20271.jpg</td>\n",
              "      <td>39</td>\n",
              "      <td>1.622268e+09</td>\n",
              "      <td></td>\n",
              "      <td>2021-05-29 06:04:37</td>\n",
              "    </tr>\n",
              "    <tr>\n",
              "      <th>98</th>\n",
              "      <td>I captured this rare astronomical event via ti...</td>\n",
              "      <td>428</td>\n",
              "      <td>m0q0ec</td>\n",
              "      <td>https://v.redd.it/n4lbjvm7cvl61</td>\n",
              "      <td>51</td>\n",
              "      <td>1.615237e+09</td>\n",
              "      <td></td>\n",
              "      <td>2021-03-08 21:02:32</td>\n",
              "    </tr>\n",
              "    <tr>\n",
              "      <th>99</th>\n",
              "      <td>Freshly minted on Foundation, this is my 1st NFT</td>\n",
              "      <td>419</td>\n",
              "      <td>msou4u</td>\n",
              "      <td>https://i.redd.it/qwnrpsdlvpt61.jpg</td>\n",
              "      <td>77</td>\n",
              "      <td>1.618658e+09</td>\n",
              "      <td></td>\n",
              "      <td>2021-04-17 11:12:48</td>\n",
              "    </tr>\n",
              "  </tbody>\n",
              "</table>\n",
              "<p>100 rows × 8 columns</p>\n",
              "</div>"
            ],
            "text/plain": [
              "                                                title  ...           timestamp\n",
              "0                  Interesting use case for NFTs. lol  ... 2021-03-23 11:07:03\n",
              "1   What are NFTs? How to mint an NFT? Why are NFT...  ... 2021-01-13 04:21:00\n",
              "2       REAL LIFE NFT ART GALLERY IN ATLANTA, GEORGIA  ... 2021-03-27 19:09:03\n",
              "3           NFT: expectation vs. reality (a flipbook)  ... 2021-04-17 14:06:56\n",
              "4                                 Flirting done right  ... 2021-03-24 14:18:13\n",
              "..                                                ...  ...                 ...\n",
              "95       The Invasion - my second drop on Foundation.  ... 2021-03-17 23:16:46\n",
              "96          My favourite trippy GIF now on Foundation  ... 2021-03-29 18:37:12\n",
              "97                                       Chaotic Mind  ... 2021-05-29 06:04:37\n",
              "98  I captured this rare astronomical event via ti...  ... 2021-03-08 21:02:32\n",
              "99   Freshly minted on Foundation, this is my 1st NFT  ... 2021-04-17 11:12:48\n",
              "\n",
              "[100 rows x 8 columns]"
            ]
          },
          "metadata": {},
          "execution_count": 14
        }
      ]
    }
  ]
}
